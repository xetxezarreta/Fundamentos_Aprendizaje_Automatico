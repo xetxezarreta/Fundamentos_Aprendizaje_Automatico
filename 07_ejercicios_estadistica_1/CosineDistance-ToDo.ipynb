{
 "cells": [
  {
   "cell_type": "markdown",
   "metadata": {
    "collapsed": true,
    "pycharm": {
     "is_executing": false
    }
   },
   "source": [
    "# Sistema de recomendación de películas - Content based filtering\n",
    "\n",
    "El objetivo de este notebook es entender la similitud del coseno con un uso práctico. Tenemos los datos de usuarios, películas, ratings y tags."
   ]
  },
  {
   "cell_type": "code",
   "execution_count": 1,
   "metadata": {},
   "outputs": [],
   "source": [
    "import pandas as pd\n",
    "import numpy as np\n",
    "import matplotlib.pyplot as plt\n",
    "\n",
    "#leer ficheros de ratings.csv y movies.csv, guardarlos en un Dataframe e inspeccionarlos\n",
    "\n",
    "#implementar"
   ]
  },
  {
   "cell_type": "code",
   "execution_count": null,
   "metadata": {},
   "outputs": [],
   "source": []
  },
  {
   "cell_type": "code",
   "execution_count": 18,
   "metadata": {},
   "outputs": [],
   "source": [
    "#Combinar el rating y películas para que podamos obtener los títulos de una forma más rápida\n",
    "#Para ellos combinar las columnas del dataframe ratings (userId,movieId, rating) con las columnas de movies (movieId,title). Será necesarío hacer un leftjoin, donde la clave para el join será el atributo movieId\n",
    "#guardar el resultado en la variable ratings\n",
    "\n",
    "#implementar"
   ]
  },
  {
   "cell_type": "markdown",
   "metadata": {},
   "source": [
    "Este código covierte los datos en una matriz donde las filas nos dan filas son Ids de usuario únicas y las columnas son Ids de películas únicas.\n",
    "Por naturaleza, esta matriz sera sparse (mayoria de datos vacios), por lo que sustituiremos datos NAN por ceros.\n",
    "pivot_table no es una función crítica, pero está bien saber que existe esta funcionalidad en pandas. Un blog ilustrativo: https://pbpython.com/pandas-pivot-table-explained.html"
   ]
  },
  {
   "cell_type": "code",
   "execution_count": 2,
   "metadata": {},
   "outputs": [
    {
     "ename": "NameError",
     "evalue": "name 'ratings' is not defined",
     "output_type": "error",
     "traceback": [
      "\u001b[1;31m---------------------------------------------------------------------------\u001b[0m",
      "\u001b[1;31mNameError\u001b[0m                                 Traceback (most recent call last)",
      "\u001b[1;32m<ipython-input-2-822e11573e3d>\u001b[0m in \u001b[0;36m<module>\u001b[1;34m\u001b[0m\n\u001b[1;32m----> 1\u001b[1;33m \u001b[0mrp\u001b[0m \u001b[1;33m=\u001b[0m \u001b[0mratings\u001b[0m\u001b[1;33m.\u001b[0m\u001b[0mpivot_table\u001b[0m\u001b[1;33m(\u001b[0m\u001b[0mcolumns\u001b[0m \u001b[1;33m=\u001b[0m \u001b[1;33m[\u001b[0m\u001b[1;34m'movieId'\u001b[0m\u001b[1;33m]\u001b[0m\u001b[1;33m,\u001b[0m \u001b[0mindex\u001b[0m \u001b[1;33m=\u001b[0m \u001b[1;33m[\u001b[0m\u001b[1;34m'userId'\u001b[0m\u001b[1;33m]\u001b[0m\u001b[1;33m,\u001b[0m \u001b[0mvalues\u001b[0m \u001b[1;33m=\u001b[0m \u001b[1;34m'rating'\u001b[0m\u001b[1;33m)\u001b[0m\u001b[1;33m\u001b[0m\u001b[1;33m\u001b[0m\u001b[0m\n\u001b[0m\u001b[0;32m      2\u001b[0m \u001b[0mrp\u001b[0m \u001b[1;33m=\u001b[0m \u001b[0mrp\u001b[0m\u001b[1;33m.\u001b[0m\u001b[0mfillna\u001b[0m\u001b[1;33m(\u001b[0m\u001b[1;36m0\u001b[0m\u001b[1;33m)\u001b[0m\u001b[1;33m\u001b[0m\u001b[1;33m\u001b[0m\u001b[0m\n\u001b[0;32m      3\u001b[0m \u001b[0mprint\u001b[0m\u001b[1;33m(\u001b[0m\u001b[0mrp\u001b[0m\u001b[1;33m)\u001b[0m\u001b[1;33m\u001b[0m\u001b[1;33m\u001b[0m\u001b[0m\n",
      "\u001b[1;31mNameError\u001b[0m: name 'ratings' is not defined"
     ]
    }
   ],
   "source": [
    "rp = ratings.pivot_table(columns = ['movieId'], index = ['userId'], values = 'rating')\n",
    "rp = rp.fillna(0)\n",
    "print(rp)"
   ]
  },
  {
   "cell_type": "markdown",
   "metadata": {},
   "source": [
    "Convertimos el Dataframe a NumPy para una ejecución más rápida (no siempre es necesario). En este ejemplo utilizaremos bucles for por ser más ilustrativo, pero no deberíais iterar sobre arrays de Numpy, ya que está diseñado para hacer ejecuciones de una sola tirada.\n",
    "\n",
    "Teniendo esta matriz como base, podemos calcular la **similaridad entre usuarios y películas**.\n",
    "\n",
    "Recordemos cuál era la forma de calcular la distancia del coseno entre dos vectores:    "
   ]
  },
  {
   "cell_type": "code",
   "execution_count": 25,
   "metadata": {},
   "outputs": [
    {
     "name": "stdout",
     "output_type": "stream",
     "text": [
      "0.8215838362577491\n"
     ]
    }
   ],
   "source": [
    "from scipy.spatial.distance import cosine\n",
    "#El coseno del ángulo entre los dos vectores es 0.822.\n",
    "a = np.asarray( [2, 1, 0, 2, 0, 1, 1, 1])\n",
    "b = np.asarray( [2, 1, 1, 1, 1, 0, 1, 1])\n",
    "print (1-cosine(a,b))"
   ]
  },
  {
   "cell_type": "markdown",
   "metadata": {},
   "source": [
    "Sigamos...\n",
    "\n"
   ]
  },
  {
   "cell_type": "code",
   "execution_count": 29,
   "metadata": {},
   "outputs": [
    {
     "name": "stdout",
     "output_type": "stream",
     "text": [
      "610\n"
     ]
    },
    {
     "name": "stderr",
     "output_type": "stream",
     "text": [
      "C:\\Users\\aaguirre\\.conda\\envs\\AnalisisExploratorio\\lib\\site-packages\\ipykernel_launcher.py:3: FutureWarning: Method .as_matrix will be removed in a future version. Use .values instead.\n",
      "  This is separate from the ipykernel package so we can avoid doing imports until\n"
     ]
    },
    {
     "name": "stdout",
     "output_type": "stream",
     "text": [
      "userId       1         2         3         4         5         6         7    \\\n",
      "userId                                                                         \n",
      "1       0.000000  0.027283  0.059720  0.194395  0.129080  0.128152  0.158744   \n",
      "2       0.027283  0.000000  0.000000  0.003726  0.016614  0.025333  0.027585   \n",
      "3       0.059720  0.000000  0.000000  0.002251  0.005020  0.003936  0.000000   \n",
      "4       0.194395  0.003726  0.002251  0.000000  0.128659  0.088491  0.115120   \n",
      "5       0.129080  0.016614  0.005020  0.128659  0.000000  0.300349  0.108342   \n",
      "...          ...       ...       ...       ...       ...       ...       ...   \n",
      "606     0.164191  0.028429  0.012993  0.200395  0.106435  0.102123  0.200035   \n",
      "607     0.269389  0.012948  0.019247  0.131746  0.152866  0.162182  0.186114   \n",
      "608     0.291097  0.046211  0.021128  0.149858  0.135535  0.178809  0.323541   \n",
      "609     0.093572  0.027565  0.000000  0.032198  0.261232  0.214234  0.090840   \n",
      "610     0.145321  0.102427  0.032119  0.107683  0.060792  0.052668  0.193219   \n",
      "\n",
      "userId       8         9         10   ...       601       602       603  \\\n",
      "userId                                ...                                 \n",
      "1       0.136968  0.064263  0.016875  ...  0.080554  0.164455  0.221486   \n",
      "2       0.027257  0.000000  0.067445  ...  0.202671  0.016866  0.011997   \n",
      "3       0.004941  0.000000  0.000000  ...  0.005048  0.004892  0.024992   \n",
      "4       0.062969  0.011361  0.031163  ...  0.085938  0.128273  0.307973   \n",
      "5       0.429075  0.000000  0.030611  ...  0.068048  0.418747  0.110148   \n",
      "...          ...       ...       ...  ...       ...       ...       ...   \n",
      "606     0.099388  0.075898  0.088963  ...  0.178084  0.116534  0.300669   \n",
      "607     0.185142  0.011844  0.010451  ...  0.092525  0.199910  0.203540   \n",
      "608     0.187233  0.100435  0.077424  ...  0.158355  0.197514  0.232771   \n",
      "609     0.423993  0.000000  0.021766  ...  0.035653  0.335231  0.061941   \n",
      "610     0.078153  0.074399  0.121072  ...  0.222491  0.087528  0.163094   \n",
      "\n",
      "userId       604       605       606       607       608       609       610  \n",
      "userId                                                                        \n",
      "1       0.070669  0.153625  0.164191  0.269389  0.291097  0.093572  0.145321  \n",
      "2       0.000000  0.000000  0.028429  0.012948  0.046211  0.027565  0.102427  \n",
      "3       0.000000  0.010694  0.012993  0.019247  0.021128  0.000000  0.032119  \n",
      "4       0.052985  0.084584  0.200395  0.131746  0.149858  0.032198  0.107683  \n",
      "5       0.258773  0.148758  0.106435  0.152866  0.135535  0.261232  0.060792  \n",
      "...          ...       ...       ...       ...       ...       ...       ...  \n",
      "606     0.066032  0.148141  0.000000  0.153063  0.262558  0.069622  0.201104  \n",
      "607     0.137834  0.118780  0.153063  0.000000  0.283081  0.149190  0.139114  \n",
      "608     0.155306  0.178142  0.262558  0.283081  0.000000  0.121993  0.322055  \n",
      "609     0.236601  0.097610  0.069622  0.149190  0.121993  0.000000  0.053225  \n",
      "610     0.052552  0.119295  0.201104  0.139114  0.322055  0.053225  0.000000  \n",
      "\n",
      "[610 rows x 610 columns]\n"
     ]
    }
   ],
   "source": [
    "m, n = rp.shape\n",
    "print(m)\n",
    "rp_mat = rp.as_matrix()\n",
    "\n",
    "# Tenemos que generar una matriz donde se almacene la similaridad entre usuarios\n",
    "\n",
    "users_mat = np.zeros((m, m))\n",
    "\n",
    "#En cada fila de user_mat almacenaremos la similaridad de un usuario respecto a los demas usuarios\n",
    "\n",
    "#implementar\n",
    "\n",
    "pd_users = pd.DataFrame(users_mat,index =rp.index ,columns= rp.index)\n",
    "\n",
    "print(pd_users)"
   ]
  },
  {
   "cell_type": "markdown",
   "metadata": {},
   "source": [
    "A continuación, implementaremos una función que nos devuelva los N usuarios más parecidos de un usuario, pasándole la Id del usuario y el número de usuarios parecidos a devolver como parámetros. Para desarrollar las siguientes dos funciones, podéis utilizar las funciones loc e iloc de pandas, las cuales nos permiten indexar DataFrames: \n",
    "\n",
    "- Doc. oficial: https://pandas.pydata.org/pandas-docs/stable/user_guide/indexing.html\n",
    "- ejemplos: https://www.shanelynn.ie/select-pandas-dataframe-rows-and-columns-using-iloc-loc-and-ix/"
   ]
  },
  {
   "cell_type": "code",
   "execution_count": 30,
   "metadata": {},
   "outputs": [
    {
     "name": "stdout",
     "output_type": "stream",
     "text": [
      "Usuarios similares al usuario: 17\n",
      "           score\n",
      "userId          \n",
      "16      0.456096\n",
      "400     0.452319\n",
      "434     0.452304\n",
      "247     0.438913\n",
      "399     0.414196\n",
      "362     0.405180\n",
      "549     0.404689\n",
      "131     0.403409\n",
      "72      0.392264\n",
      "464     0.386456\n"
     ]
    }
   ],
   "source": [
    "def topn_simusers(uid,n):\n",
    "    \n",
    "    #implementar\n",
    "    return pd.DataFrame(topn_users)\n",
    "\n",
    "print (topn_simusers(uid=17,n=10))"
   ]
  },
  {
   "cell_type": "markdown",
   "metadata": {},
   "source": [
    "La tarea no acaba con encontrar usuarios similares. El objetivo sería ver cuáles son las películas mejor valoradas por cada usuario. Desarrollemos una función que devuelva las películas mejor valoradas por cada usuario:"
   ]
  },
  {
   "cell_type": "code",
   "execution_count": 31,
   "metadata": {},
   "outputs": [
    {
     "name": "stdout",
     "output_type": "stream",
     "text": [
      "Top 10 movie ratings of user: 596\n",
      "       userId  movieId  rating   timestamp  \\\n",
      "91864     596     3000     5.0  1535708657   \n",
      "91974     596    33649     5.0  1535829905   \n",
      "92107     596   122906     5.0  1535708624   \n",
      "91905     596     4878     5.0  1535708338   \n",
      "92109     596   122916     5.0  1535627433   \n",
      "91928     596     5971     5.0  1535708665   \n",
      "92084     596   110102     5.0  1535709675   \n",
      "91837     596     2288     5.0  1535827560   \n",
      "91969     596    31658     5.0  1535708584   \n",
      "92100     596   122882     5.0  1535708481   \n",
      "\n",
      "                                                   title  \n",
      "91864           Princess Mononoke (Mononoke-hime) (1997)  \n",
      "91974                                 Saving Face (2004)  \n",
      "92107                               Black Panther (2017)  \n",
      "91905                                Donnie Darko (2001)  \n",
      "92109                              Thor: Ragnarok (2017)  \n",
      "91928       My Neighbor Totoro (Tonari no Totoro) (1988)  \n",
      "92084         Captain America: The Winter Soldier (2014)  \n",
      "91837                                  Thing, The (1982)  \n",
      "91969  Howl's Moving Castle (Hauru no ugoku shiro) (2...  \n",
      "92100                          Mad Max: Fury Road (2015)  \n"
     ]
    }
   ],
   "source": [
    "def topn_movieratings(uid = 355,n_ratings=10):\n",
    "    uid_ratings = ratings.loc[ratings['userId']==uid]\n",
    "    uid_ratings = uid_ratings.sort_values(by='rating',ascending = False)\n",
    "    print (\"Top\",n_ratings ,\"de valoraciones de películas del usuario:\",uid)\n",
    "    return uid_ratings.iloc[:n_ratings,]\n",
    "print (topn_movieratings(uid=596,n_ratings=10))"
   ]
  },
  {
   "cell_type": "markdown",
   "metadata": {},
   "source": [
    "Basándonos en este enfoque, podríamos seguir varios caminos:\n",
    "a) podemos sugerir películas de los x usuarios que más se parezcan a un usuario, eliminando aquellas que ya ha visto el usuario\n",
    "b) una forma más avanzada para una recomendación sería obtener una matriz de similaridad entre películas (proceso similar al que hemos seguido con los usuarios), y recomendar aquellas películas parécidas a las que nos gusten.\n",
    "\n",
    "Implementad la opción que más os interese."
   ]
  },
  {
   "cell_type": "code",
   "execution_count": null,
   "metadata": {},
   "outputs": [],
   "source": []
  }
 ],
 "metadata": {
  "kernelspec": {
   "display_name": "Python 3",
   "language": "python",
   "name": "python3"
  },
  "language_info": {
   "codemirror_mode": {
    "name": "ipython",
    "version": 3
   },
   "file_extension": ".py",
   "mimetype": "text/x-python",
   "name": "python",
   "nbconvert_exporter": "python",
   "pygments_lexer": "ipython3",
   "version": "3.7.3"
  }
 },
 "nbformat": 4,
 "nbformat_minor": 1
}
