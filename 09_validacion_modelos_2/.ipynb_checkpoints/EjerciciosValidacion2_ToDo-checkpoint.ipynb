{
 "cells": [
  {
   "cell_type": "markdown",
   "metadata": {
    "collapsed": true,
    "pycharm": {
     "is_executing": false
    }
   },
   "source": [
    "# Comparación de modelos de Machine Learning\n",
    "\n",
    "Es importante comparar el rendimiento de distintos algoritmos de machine learning de forma consistente. El objetivo de este notebook es crear un template de prueba dicho cometido.\n",
    "\n",
    "Cuando creemos un nuevo proyecto de ML, normalmente acabaremos con varios modelos que funcionen de manera aceptable para nuestro problema, aunque cada uno de esos modelos tenga distintas características de rendimiento.\n",
    "\n",
    "Ya hemos visto que utilizando métodos como la validación cruzada nos ayudan a estimar cómo de preciso es nuestro modelo cuando tiene que predecir sobre datos \"nunca vistos\".\n",
    "\n",
    "## Métodos\n",
    "\n",
    "De la misma forma que visualizamos los datos cuando cogemos un nuevo dataset, tenemos que utilizar técnicas similares cuando ya hemos creado distintos modelos. Además de obtener un score, tenemos que comparar los resultados obtenidos por los modelos y decidir cuáles son los mejores (o el mejor)."
   ]
  },
  {
   "cell_type": "markdown",
   "metadata": {},
   "source": [
    "## Consistencia"
   ]
  },
  {
   "cell_type": "markdown",
   "metadata": {},
   "source": [
    "La forma correcta de comparar algoritmos de ML es asegurarse de que cada algoritmo se evalua de la misma forma en los mismos datos.\n",
    "\n",
    "A continuación, veremos un ejemplo donde compararemos 6 algoritmos distintos:\n",
    "\n",
    "1. Regresión Logística\n",
    "2. Análisis linear discriminante\n",
    "3. K-Nearest neighbors\n",
    "4. Arboles de regresión y clasificación\n",
    "5. Naive Bayes\n",
    "6. Support Vector Machines\n",
    "\n",
    "Para este problema utilizaremos el conocido dataset Pima Indians de diabetes. El problema tiene dos claes y ocho variables de entrada de distintas escalas.\n",
    "\n",
    "El método utilizado para la evaluación cada algoritmo será el cross-validation, utilizando 10 folds para el mismo. Hay que configurar el algoritmo con el **mismo seed** para asegurar de que los splits se dividen de la misma manera y se lleva a cabo la evaluación de la misma forma."
   ]
  },
  {
   "cell_type": "code",
   "execution_count": 4,
   "metadata": {
    "pycharm": {
     "is_executing": false
    }
   },
   "outputs": [],
   "source": [
    "import pandas\n",
    "import matplotlib.pyplot as plt\n",
    "from sklearn import model_selection\n",
    "from sklearn.linear_model import LogisticRegression\n",
    "from sklearn.tree import DecisionTreeClassifier\n",
    "from sklearn.neighbors import KNeighborsClassifier\n",
    "from sklearn.discriminant_analysis import LinearDiscriminantAnalysis\n",
    "from sklearn.naive_bayes import GaussianNB\n",
    "from sklearn.svm import SVC\n",
    "\n",
    "import warnings\n",
    "warnings.filterwarnings('ignore')\n",
    "\n",
    "\n",
    "url = \"https://raw.githubusercontent.com/jbrownlee/Datasets/master/pima-indians-diabetes.data.csv\"\n",
    "names = ['preg', 'plas', 'pres', 'skin', 'test', 'mass', 'pedi', 'age', 'class']\n",
    "dataframe = pandas.read_csv(url, names=names)\n",
    "array = dataframe.values\n",
    "X = array[:,0:8]\n",
    "Y = array[:,8]\n",
    "\n",
    "models = []\n",
    "models.append(('LR', LogisticRegression()))\n",
    "models.append(('LDA', LinearDiscriminantAnalysis()))\n",
    "models.append(('KNN', KNeighborsClassifier()))\n",
    "models.append(('CART', DecisionTreeClassifier()))\n",
    "models.append(('NB', GaussianNB()))\n",
    "models.append(('SVM', SVC()))"
   ]
  },
  {
   "cell_type": "markdown",
   "metadata": {},
   "source": [
    "1) Evalua cada algoritmo utilizando cross-validation y muestra los resultados en pantalla."
   ]
  },
  {
   "cell_type": "code",
   "execution_count": 6,
   "metadata": {},
   "outputs": [
    {
     "name": "stdout",
     "output_type": "stream",
     "text": [
      "LR: 0.7695146958304853 (0.04841051924567195)\n",
      "LDA: 0.773462064251538 (0.05159180390446138)\n",
      "KNN: 0.7265550239234451 (0.06182131406705549)\n",
      "CART: 0.7004955570745045 (0.05335507565064416)\n",
      "NB: 0.7551777170198223 (0.04276593954064409)\n",
      "SVM: 0.6510252904989747 (0.07214083485055327)\n"
     ]
    }
   ],
   "source": [
    "seed = 7\n",
    "results = []\n",
    "names = []\n",
    "scoring = 'accuracy'\n",
    "\n",
    "for name, model in models:\n",
    "    kfold = model_selection.KFold(n_splits=10, random_state=seed)\n",
    "    cv_results = model_selection.cross_val_score(model, X, Y, cv=kfold, scoring=scoring)\n",
    "    results.append(cv_results)\n",
    "    names.append(name)\n",
    "    print(f\"{name}: {cv_results.mean()} ({cv_results.std()})\")"
   ]
  },
  {
   "cell_type": "markdown",
   "metadata": {},
   "source": [
    "2) Plotea los resultados en un whisker plot para ver la varianza de los scores por cada algoritmo de una forma visual."
   ]
  },
  {
   "cell_type": "code",
   "execution_count": 8,
   "metadata": {},
   "outputs": [
    {
     "data": {
      "image/png": "[encoded data removed]",
      "text/plain": [
       "<Figure size 432x288 with 1 Axes>"
      ]
     },
     "metadata": {
      "needs_background": "light"
     },
     "output_type": "display_data"
    }
   ],
   "source": [
    "fig = plt.figure()\n",
    "fig.suptitle('Comparación de algoritmos')\n",
    "ax = fig.add_subplot(111)\n",
    "plt.boxplot(results)\n",
    "ax.set_xticklabels(names)\n",
    "plt.show()"
   ]
  },
  {
   "cell_type": "markdown",
   "metadata": {},
   "source": [
    "3) ¿Cuáles son los mejores modelos teniendo en cuenta los resultados obtenidos?"
   ]
  },
  {
   "cell_type": "markdown",
   "metadata": {},
   "source": [
    "Este método se puede utilizar para una primera evaluación de los algoritmos. Una vez elijamos los mejores, podríamos proceder a mejorarlos, por ejemplo con la selección de los mejores hiperparámetros."
   ]
  },
  {
   "cell_type": "markdown",
   "metadata": {},
   "source": [
    "## Test de significación estadística\n",
    "\n",
    "Una vez que hemos acabado de tunear nuestros modelos, puede que querramos demostrar que nuestro modelo funciona mejor que otro. Por ejemplo, si deseamos publicar los resultados de nuestro trabajo.\n",
    "\n",
    "Para ello, hay que utilizar distintos test de significancia, siendo los más importantes, el test de McNemar y el test de Mann-Whitney-Wilcoxon."
   ]
  },
  {
   "cell_type": "markdown",
   "metadata": {},
   "source": [
    "### Test de McNemar"
   ]
  },
  {
   "cell_type": "markdown",
   "metadata": {},
   "source": [
    "Especificamente, este test está recomendado para aquellos casos donde los algoritmos que están siendo comparados solo se pueden evaluar una sola vez. Por ejemplo, en un solo conjunto de test, sin tener la posibilidad de llevar a cabo un k-fold cross validation. Una utilidad clara de este test puede ser la comparación entre resultados de modelos de deep learning. En este caso, utilizaremos el test para comparar los resultados de dos algoritmos de clasificación."
   ]
  },
  {
   "cell_type": "markdown",
   "metadata": {},
   "source": [
    "#### Tabla de contingencias\n",
    "\n",
    "    Instancia, Clas. 1 OK,\tClas. 2 Ok\n",
    "    1           Yes              No\n",
    "    2           No               No\n",
    "    3           No\t           Yes\n",
    "    4           No\t           No\n",
    "    5           Yes\t          Yes\n",
    "    6           Yes\t          Yes\n",
    "    7           Yes\t          Yes\n",
    "    8           No\t           No\n",
    "    9           Yes\t          No\n",
    "    10\t\t  Yes\t         Yes\n",
    "    \n",
    "En esta tabla podemos ver que el clasificador 1 ha clasificado 6 datos correctamente (accuracy del 60%) y que el clasificador 2 ha obtenido 5 predicciones correctas (50%). Esta tabla se podría reducir a una tabla de contingencias, que es, precisamente, el formato en el que veremos los datos en el test de McNemar.\n",
    "\n",
    "La tabla de contigencias tendría este aspecto: "
   ]
  },
  {
   "cell_type": "markdown",
   "metadata": {},
   "source": [
    "                Clas. 1 OK,\tClas. 2 NoOk\n",
    "    Clas.1 Ok       Sí/Sí       Sí/No\n",
    "    Clas.1 NoOk \tNo/Sí       No/No"
   ]
  },
  {
   "cell_type": "markdown",
   "metadata": {},
   "source": [
    "En la primera celda, indicaríamos cuáles han sido las instancias que tanto el clasificador 1, como el clasificador 2, han clasificado de forma correcta. El número total de instancias que ambos han clasificado de forma correcta es 4. Siguiendo el esquema indicado en la tabla anterior, obtendríamos los siguientes resultados:\n",
    "\n",
    "                 Clas. 1 OK\tClas. 2 NoOk\n",
    "       Clas.1 Ok      4          2\n",
    "       Clas.1 NoOk    1          3"
   ]
  },
  {
   "cell_type": "markdown",
   "metadata": {},
   "source": [
    "### Test estadístico de McNemar\n",
    "\n",
    "Este test es poco intuitivo, aun así, es una de las técnicas de comparación de modelos más utilizada. En resumen, este test es un test de homogeneidad para la tabla de contingencias. Dicho en otras palabras, se fija en sí los modelos están \"en desacuerdo\" en la misma manera (o no).\n",
    "\n",
    "Esta es la formula para el cálculo del test:\n",
    "\n",
    "*McNemar_estadística = (Sí/No - No/Sí)^2 / (Sí/No + No/Sí)*\n",
    "\n",
    "Donde Sí/No es el conteo de las instancias que el clasificador uno clasificó correctamente y el clasificador 2 los clasificó de forma incorrecta, y No/Yes indica el caso contrario."
   ]
  },
  {
   "cell_type": "markdown",
   "metadata": {},
   "source": [
    "Este test asume que tenemos al menos 25 datos y la estadística de test tiene una distribución Chi-Square de 1 grado de libertad.\n",
    "\n",
    "##### Importante\n",
    "Las celdas sí/sí y no/no no se utilizan. Podemos apreciar que la estadística solo se fija en la distintas predicciones correctas o incorrectas entre los dos modelos.\n",
    "Por lo tanto, **hay que tener claro que no estamos reportando ni el accuracy ni los ratios de error.**"
   ]
  },
  {
   "cell_type": "markdown",
   "metadata": {},
   "source": [
    "Partiendo de esta base, la hipótesis nula indica que ambos algoritmos \"están en desacuerdo\" en la misma cantidad.\n",
    "Dado un nivel de significancia estadística, el p-valor generado por este test se puede interpretar de la siguiente manera:\n",
    "\n",
    "* p > alpha: no podemos rechazar la H0, no hay diferencia en el desencuentro de ambos modelos\n",
    "* p <= alpha: podemos rechazar H0, hay una diferencia significativa en el desacuerdo entre los modelos"
   ]
  },
  {
   "cell_type": "markdown",
   "metadata": {},
   "source": [
    "#### Test de McNemar en Python\n",
    "\n",
    "Este test se realiza mediante la función ncnemar() de statsmodels (http://www.statsmodels.org/dev/generated/statsmodels.stats.contingency_tables.mcnemar.html)\n",
    "\n",
    "La función toma la tabla de contingencia como argumento y devuelve el cálculo de la estadística de test y el p-valor. \n",
    "\n",
    "Existen dos formas de utilizar este test dependiendo de la cantidad de datos que tengamos.\n",
    "1. Si existe alguna celda en la tabla que se use para el cálculo de la estadística y que tenga un valor de conteo menor de 25, se utiliza una versión modificada del test, donde se calcula el p-valor utilizando una distribución binomial. Este es el comportamiento por defecto test:"
   ]
  },
  {
   "cell_type": "code",
   "execution_count": 3,
   "metadata": {},
   "outputs": [
    {
     "ename": "NameError",
     "evalue": "name 'mcnemar' is not defined",
     "output_type": "error",
     "traceback": [
      "\u001b[1;31m---------------------------------------------------------------------------\u001b[0m",
      "\u001b[1;31mNameError\u001b[0m                                 Traceback (most recent call last)",
      "\u001b[1;32m<ipython-input-3-106feeeed082>\u001b[0m in \u001b[0;36m<module>\u001b[1;34m\u001b[0m\n\u001b[1;32m----> 1\u001b[1;33m \u001b[0mstat\u001b[0m\u001b[1;33m,\u001b[0m \u001b[0mp\u001b[0m \u001b[1;33m=\u001b[0m \u001b[0mmcnemar\u001b[0m\u001b[1;33m(\u001b[0m\u001b[0mtable\u001b[0m\u001b[1;33m,\u001b[0m \u001b[0mexact\u001b[0m \u001b[1;33m=\u001b[0m \u001b[1;32mTrue\u001b[0m\u001b[1;33m)\u001b[0m\u001b[1;33m\u001b[0m\u001b[1;33m\u001b[0m\u001b[0m\n\u001b[0m",
      "\u001b[1;31mNameError\u001b[0m: name 'mcnemar' is not defined"
     ]
    }
   ],
   "source": [
    "stat, p = mcnemar(table, exact = True)"
   ]
  },
  {
   "cell_type": "markdown",
   "metadata": {},
   "source": [
    "2. De forma alternativa, si existe algun valor igual o mayor de 25, se puede utilizar el cálculo estándar del test:"
   ]
  },
  {
   "cell_type": "code",
   "execution_count": null,
   "metadata": {},
   "outputs": [],
   "source": [
    "stat, p = mcnemar(table, exact = False, correction = True)"
   ]
  },
  {
   "cell_type": "markdown",
   "metadata": {},
   "source": [
    "El siguiente ejemplo muestra como aplicar el test en una tabla de contingencia que habriámos obtenido como resultado de dos clasificadores. Como esta tabla tiene un número bajo en el conteo de las celdas de desacuerdo, se tiene que utilizar el método \"exacto\"."
   ]
  },
  {
   "cell_type": "code",
   "execution_count": null,
   "metadata": {},
   "outputs": [],
   "source": [
    "from statsmodels.stats.contingency_tables import mcnemar\n",
    "# definimos la tabla de contingencia\n",
    "table = [[4, 2],[1, 3]]\n",
    "\n",
    "result = mcnemar(table, exact=True)\n",
    "\n",
    "# resumen de los resultados obtenidos\n",
    "print(f'statistic={result.statistic}, p-valor={result.pvalue}')\n",
    "\n",
    "# interpretación del p-valor\n",
    "alpha = 0.05\n",
    "if result.pvalue > alpha:\n",
    "    print('Misma proporción de errores (no podemos rechazar H0)')\n",
    "else:\n",
    "    print('Distinta proporción de errores (rechazamos H0)')"
   ]
  },
  {
   "cell_type": "markdown",
   "metadata": {},
   "source": [
    "3) Utiliza los datos resultados obtenidos por los dos mejores clasificadores de la pregunta dos, calcula la tabla de contingencia y utiliza el test de McNemar para comparar ambos modelos."
   ]
  },
  {
   "cell_type": "code",
   "execution_count": null,
   "metadata": {},
   "outputs": [],
   "source": []
  },
  {
   "cell_type": "markdown",
   "metadata": {},
   "source": [
    "🥐"
   ]
  },
  {
   "cell_type": "code",
   "execution_count": null,
   "metadata": {},
   "outputs": [],
   "source": []
  }
 ],
 "metadata": {
  "kernelspec": {
   "display_name": "Python 3",
   "language": "python",
   "name": "python3"
  },
  "language_info": {
   "codemirror_mode": {
    "name": "ipython",
    "version": 3
   },
   "file_extension": ".py",
   "mimetype": "text/x-python",
   "name": "python",
   "nbconvert_exporter": "python",
   "pygments_lexer": "ipython3",
   "version": "3.7.4"
  }
 },
 "nbformat": 4,
 "nbformat_minor": 1
}
