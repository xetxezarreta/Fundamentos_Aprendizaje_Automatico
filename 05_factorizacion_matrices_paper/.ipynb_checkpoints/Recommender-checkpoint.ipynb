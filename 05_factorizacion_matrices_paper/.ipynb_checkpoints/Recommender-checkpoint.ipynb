{
 "cells": [
  {
   "cell_type": "markdown",
   "metadata": {
    "pycharm": {
     "name": "#%% md\n"
    }
   },
   "source": [
    "# Simple Movie Recommender Using SVD\n",
    "\n",
    "\n",
    "\n",
    "## Filtrado colaborativo\n",
    "Dentro de los Sistemas de Recomendacion basados en Filtrado Colaborativo se tieneuna matriz de votos, que contiene las votaciones que realizan losusuariossobre lositems.\n",
    "\n",
    "![title](img/collab1.png)\n",
    "![title](img/collab2.png)\n",
    "![title](img/collab3.png)\n",
    "\n",
    "### Similitud coseno\n",
    "La similitud coseno es una medida de la similitud existente entre dos vectores en un espacio que posee un producto interior con el que se evalúa el valor del coseno del ángulo comprendido entre ellos.\n",
    "\n",
    "## SVD\n",
    "\n",
    "### Objetivo\n",
    "\n",
    "- Sugerir  nuevos items a los usuarios y la tecnica del SVD aplicada a los sistemas de recomendacion basados en filtrado colaborativo realiza muy buenas recomendaciones.\n",
    "- Tiene el problema de que el tiempo que tarda en realizar las recomendaciones es muy elevado y los principales objetivos de los sistemas de recomendacion son recomendar bien y hacerlo rapido.\n",
    "\n",
    "A = U·S·V   (El producto matricial de 'U', 'S', 'V' es la matriz A)\n",
    "\n",
    "\n",
    "Dentro de los Sistemas de Recomendacion basados en Filtrado Colaborativo se tiene una matriz de votos, que contiene las votaciones que realizan los usuarios sobre los items (películas).\n",
    "\n",
    "Lo que se pretende al realizar el SVD sobre la matriz de votos, es obtener una serie de factores que caractericen a cada uno de los usuarios y de los items del sistema, por tanto, y a nivel conceptual para el caso del filtrado colaborativo, podemos simplificar el proceso del SVD, obteniendo solamente las matrices de factores de los usuarios e items.\n",
    "\n",
    "![title](img/SVD.png)\n",
    "\n",
    "<img src=\"img/SVD.png\">\n",
    "\n",
    "¿Cuál es el significado de  los  factores  que  hemos  obtenido?\n",
    "No  existe  ninguna  explicacion  sobre  el significado de estos factores que nos da el metodo SVD, solo podemos explicar que este metodo  caracteriza  de  alguna  forma  a  los usuarios e items y  esta  caracterizacion  nos permite predecir de forma muy buena los items que no han sido votados por losusuarios."
   ]
  },
  {
   "cell_type": "code",
   "execution_count": 1,
   "metadata": {
    "pycharm": {
     "is_executing": false,
     "name": "#%% \n"
    }
   },
   "outputs": [],
   "source": [
    "# https://alyssaq.github.io/2015/20150426-simple-movie-recommender-using-svd/\n",
    "import numpy as np\n",
    "import pandas as pd"
   ]
  },
  {
   "cell_type": "code",
   "execution_count": 2,
   "metadata": {
    "pycharm": {
     "is_executing": false,
     "name": "#%% \n"
    }
   },
   "outputs": [
    {
     "name": "stdout",
     "output_type": "stream",
     "text": [
      "   user_id  movie_id  rating       time\n",
      "0        1      1193       5  978300760\n",
      "1        1       661       3  978302109\n",
      "2        1       914       3  978301968\n",
      "3        1      3408       4  978300275\n",
      "4        1      2355       5  978824291\n",
      "   movie_id                               title                         genre\n",
      "0         1                    Toy Story (1995)   Animation|Children's|Comedy\n",
      "1         2                      Jumanji (1995)  Adventure|Children's|Fantasy\n",
      "2         3             Grumpier Old Men (1995)                Comedy|Romance\n",
      "3         4            Waiting to Exhale (1995)                  Comedy|Drama\n",
      "4         5  Father of the Bride Part II (1995)                        Comedy\n"
     ]
    }
   ],
   "source": [
    "# Read the data with pandas.\n",
    "data = pd.io.parsers.read_csv('data/ratings.dat', \n",
    "    names=['user_id', 'movie_id', 'rating', 'time'],\n",
    "    engine='python', delimiter='::')\n",
    "print(data.head(5))\n",
    "\n",
    "movie_data = pd.io.parsers.read_csv('data/movies.dat',\n",
    "    names=['movie_id', 'title', 'genre'],\n",
    "    engine='python', delimiter='::')\n",
    "print(movie_data.head(5))"
   ]
  },
  {
   "cell_type": "code",
   "execution_count": 3,
   "metadata": {
    "pycharm": {
     "is_executing": false,
     "name": "#%%  \n"
    }
   },
   "outputs": [
    {
     "name": "stdout",
     "output_type": "stream",
     "text": [
      "[[5 0 0 ... 0 0 3]\n",
      " [0 0 0 ... 0 0 0]\n",
      " [0 0 0 ... 0 0 0]\n",
      " ...\n",
      " [0 0 0 ... 0 0 0]\n",
      " [0 0 0 ... 0 0 0]\n",
      " [0 0 0 ... 0 0 0]]\n"
     ]
    }
   ],
   "source": [
    "# Create the ratings matrix of shape (m×n) with rows as movies and columns as users\n",
    "ratings_mat = np.ndarray(\n",
    "    shape=(np.max(data.movie_id.values), np.max(data.user_id.values)),\n",
    "    dtype=np.uint8)\n",
    "\n",
    "ratings_mat[data.movie_id.values-1, data.user_id.values-1] = data.rating.values\n",
    "\n",
    "print(ratings_mat)"
   ]
  },
  {
   "cell_type": "code",
   "execution_count": 17,
   "metadata": {
    "pycharm": {
     "is_executing": false,
     "name": "#%%\n"
    }
   },
   "outputs": [
    {
     "name": "stdout",
     "output_type": "stream",
     "text": [
      "[[-5.72245537e-02 -2.69349804e-02 -1.44300959e-02 ... -3.50288960e-03\n",
      "  -8.19971409e-04 -1.25419482e-02]\n",
      " [-2.09461200e-02 -2.97843268e-02 -1.66998921e-02 ...  1.87545849e-03\n",
      "   2.26486119e-03  5.02192377e-03]\n",
      " [ 2.86333511e-02 -8.62001932e-03  1.36557569e-02 ...  1.91670702e-03\n",
      "   3.47436586e-03  2.20808096e-02]\n",
      " ...\n",
      " [ 0.00000000e+00  1.41748444e-31 -1.46145455e-31 ...  5.94341981e-31\n",
      "   3.22978452e-31  7.83853487e-32]\n",
      " [ 0.00000000e+00 -2.89130233e-32  2.93168384e-32 ...  3.84223024e-32\n",
      "   1.01111322e-33  2.76912615e-32]\n",
      " [ 0.00000000e+00  7.54604712e-17  7.22688381e-17 ...  4.33680869e-18\n",
      "  -1.00180281e-16 -3.36102673e-18]]\n"
     ]
    }
   ],
   "source": [
    "# Compute SVD\n",
    "normalised_mat = ratings_mat - np.asarray([(np.mean(ratings_mat, 1))]).T\n",
    "A = normalised_mat.T / np.sqrt(ratings_mat.shape[0] - 1)\n",
    "U, S, V = np.linalg.svd(A)\n",
    "\n",
    "print(V)"
   ]
  },
  {
   "cell_type": "code",
   "execution_count": 5,
   "metadata": {
    "pycharm": {
     "is_executing": false,
     "name": "#%%\n"
    }
   },
   "outputs": [],
   "source": [
    "# Calculate cosine similarity, sort by most similar and return the top N.\n",
    "def top_cosine_similarity(data, movie_id, top_n=10):\n",
    "    index = movie_id - 1 # Movie id starts from 1\n",
    "    movie_row = data[index, :]\n",
    "    magnitude = np.sqrt(np.einsum('ij, ij -> i', data, data))\n",
    "    similarity = np.dot(movie_row, data.T) / (magnitude[index] * magnitude)\n",
    "    sort_indexes = np.argsort(-similarity)\n",
    "    return sort_indexes[:top_n]\n",
    "\n",
    "# Helper function to print top N similar movies\n",
    "def print_similar_movies(movie_data, movie_id, top_indexes):\n",
    "    print('Recommendations for {0}: \\n'.format(\n",
    "    movie_data[movie_data.movie_id == movie_id].title.values[0]))\n",
    "    for id in top_indexes + 1:\n",
    "        print(movie_data[movie_data.movie_id == id].title.values[0])"
   ]
  },
  {
   "cell_type": "code",
   "execution_count": 16,
   "metadata": {
    "pycharm": {
     "is_executing": false,
     "name": "#%%\n"
    }
   },
   "outputs": [
    {
     "name": "stdout",
     "output_type": "stream",
     "text": [
      "Recommendations for Toy Story (1995): \n",
      "\n",
      "Toy Story (1995)\n",
      "Toy Story 2 (1999)\n",
      "Babe (1995)\n",
      "Bug's Life, A (1998)\n",
      "Pleasantville (1998)\n",
      "Babe: Pig in the City (1998)\n",
      "Aladdin (1992)\n",
      "Stuart Little (1999)\n",
      "Secret Garden, The (1993)\n",
      "Tarzan (1999)\n"
     ]
    }
   ],
   "source": [
    "np.seterr(divide='ignore', invalid='ignore')\n",
    "\n",
    "# Select k principal components to represent the movies, a movie_id to find recommendations and print the top_n results.\n",
    "k = 50\n",
    "movie_id = 1 # Grab an id from movies.dat\n",
    "top_n = 10\n",
    "\n",
    "sliced = V.T[:, :k] # representative data\n",
    "indexes = top_cosine_similarity(sliced, movie_id, top_n)\n",
    "print_similar_movies(movie_data, movie_id, indexes)"
   ]
  },
  {
   "cell_type": "code",
   "execution_count": 19,
   "metadata": {
    "pycharm": {
     "is_executing": false
    }
   },
   "outputs": [],
   "source": [
    "# Bibliografía\n",
    "# http://citeseerx.ist.psu.edu/viewdoc/download?doi=10.1.1.3.1001&rep=rep1&type=pdf\n",
    "# https://www.researchgate.net/profile/Konstantinos_G_Margaritis/publication/4215624_Applying_SVD_on_item-based_filtering/links/02e7e52088aae97991000000.pdf\n",
    "# https://www.researchgate.net/profile/Konstantinos_G_Margaritis/publication/27382630_Applying_SVD_on_Item-based_Filtering/links/02e7e52600d2e7d2ac000000/Applying-SVD-on-Item-based-Filtering.pdf\n",
    "# http://informatico.ricardomoya.es/docs/ProyectoFinDeMaster_V1.pdf\n",
    "# https://alyssaq.github.io/2015/20150426-simple-movie-recommender-using-svd/"
   ]
  },
  {
   "cell_type": "code",
   "execution_count": null,
   "metadata": {},
   "outputs": [],
   "source": []
  }
 ],
 "metadata": {
  "kernelspec": {
   "display_name": "Python 3",
   "language": "python",
   "name": "python3"
  },
  "language_info": {
   "codemirror_mode": {
    "name": "ipython",
    "version": 3
   },
   "file_extension": ".py",
   "mimetype": "text/x-python",
   "name": "python",
   "nbconvert_exporter": "python",
   "pygments_lexer": "ipython3",
   "version": "3.7.4"
  },
  "pycharm": {
   "stem_cell": {
    "cell_type": "raw",
    "metadata": {
     "collapsed": false
    },
    "source": []
   }
  }
 },
 "nbformat": 4,
 "nbformat_minor": 1
}
