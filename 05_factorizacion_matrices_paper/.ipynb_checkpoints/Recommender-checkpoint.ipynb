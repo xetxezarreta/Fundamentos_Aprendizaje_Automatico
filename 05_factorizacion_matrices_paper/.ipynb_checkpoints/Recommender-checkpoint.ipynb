{
 "cells": [
  {
   "cell_type": "markdown",
   "metadata": {
    "pycharm": {
     "name": "#%% md\n"
    }
   },
   "source": [
    "# Simple Movie Recommender Using SVD\n",
    "\n",
    "## Filtrado colaborativo\n",
    "- El Filtrado colaborativo (FC) es una técnica utilizada por algunos sistemas recomendadores.\n",
    "- Dentro de los Sistemas de Recomendacion basados en Filtrado Colaborativo se tiene una matriz de votos.\n",
    "\n",
    "<img src=\"img/collab1.PNG\"/>\n",
    "<img src=\"img/collab2.PNG\"/>\n",
    "<img src=\"img/collab3.PNG\"/>\n",
    "\n",
    "### Similitud coseno\n",
    "- Una medida de la similitud existente entre dos vectores.\n",
    "- El valor del coseno del ángulo comprendido entre ellos.\n",
    "\n",
    "<img src=\"img/similitudCoseno1.PNG\"/>\n",
    "Representamos cada persona con un vector.\n",
    "<img src=\"img/similitudCoseno2.PNG\"/>\n",
    "Formula para el cálculo de similitud coseno entre 2 vectores.\n",
    "<img src=\"img/similitudCoseno3.PNG\"/>\n",
    "La similitud de estos dos vectores indica la similitud de las preferencias de estas dos personas. \n",
    "<img src=\"img/similitudCoseno4.PNG\"/>\n",
    "El resultado está muy cerca del 1, las preferencias son casi iguales.\n",
    "\n",
    "## SVD\n",
    "\n",
    "### Objetivo\n",
    "\n",
    "- SVD aplicada a los sistemas de recomendacion basados en filtrado colaborativo realiza muy buenas recomendaciones.\n",
    "- Tiempo de computo es muy grande y los principales objetivos de los sistemas de recomendacion son recomendar bien y hacerlo rapido.\n",
    "\n",
    "A = U·S·V   (El producto matricial de 'U', 'S', 'V' es la matriz A)\n",
    "\n",
    "\n",
    "- Dentro de los Sistemas de Recomendacion basados en Filtrado Colaborativo se tiene una matriz de votos.\n",
    "- Con SVD se obtienen una serie de factores que caracteriza cada uno de los usuarios y los items (peliculas).\n",
    "\n",
    "- Con SVD podemos simplificar el proceso de recomendación obteniendo solo las matrices de factores de usuarios e items (U y V).\n",
    "\n",
    "<img src=\"img/SVD.PNG\"/>"
   ]
  },
  {
   "cell_type": "code",
   "execution_count": null,
   "metadata": {
    "pycharm": {
     "is_executing": true,
     "name": "#%% \n"
    }
   },
   "outputs": [],
   "source": [
    "# Importamos numpy y pandas.\n",
    "import numpy as np\n",
    "import pandas as pd"
   ]
  },
  {
   "cell_type": "code",
   "execution_count": null,
   "metadata": {
    "pycharm": {
     "is_executing": true,
     "name": "#%% \n"
    }
   },
   "outputs": [],
   "source": [
    "# Leemos los datos con pandas.\n",
    "data = pd.io.parsers.read_csv('data/ratings.dat', \n",
    "    names=['user_id', 'movie_id', 'rating', 'time'],\n",
    "    engine='python', delimiter='::')\n",
    "print(data.head(5))\n",
    "\n",
    "movie_data = pd.io.parsers.read_csv('data/movies.dat',\n",
    "    names=['movie_id', 'title', 'genre'],\n",
    "    engine='python', delimiter='::')\n",
    "print(movie_data.head(5))"
   ]
  },
  {
   "cell_type": "code",
   "execution_count": null,
   "metadata": {
    "pycharm": {
     "is_executing": true,
     "name": "#%%  \n"
    }
   },
   "outputs": [],
   "source": [
    "# Creamos una matriz de valoraciones(m×n) (row=películas, col=usuarios)\n",
    "ratings_mat = np.ndarray(\n",
    "    shape=(np.max(data.movie_id.values), np.max(data.user_id.values)),\n",
    "    dtype=np.uint8)\n",
    "\n",
    "ratings_mat[data.movie_id.values-1, data.user_id.values-1] = data.rating.values\n",
    "\n",
    "print(ratings_mat)"
   ]
  },
  {
   "cell_type": "code",
   "execution_count": null,
   "metadata": {
    "pycharm": {
     "is_executing": true,
     "name": "#%%\n"
    }
   },
   "outputs": [],
   "source": [
    "# Factorizamos la matriz de valoraciones con SVD.\n",
    "normalised_mat = ratings_mat - np.asarray([(np.mean(ratings_mat, 1))]).T\n",
    "A = normalised_mat.T / np.sqrt(ratings_mat.shape[0] - 1)\n",
    "U, S, V = np.linalg.svd(A)\n",
    "\n",
    "print(V)"
   ]
  },
  {
   "cell_type": "code",
   "execution_count": null,
   "metadata": {
    "pycharm": {
     "is_executing": true,
     "name": "#%%\n"
    }
   },
   "outputs": [],
   "source": [
    "# Cálculo de similitud coseno, devuelve el top N de las películas más similares.\n",
    "def top_cosine_similarity(data, movie_id, top_n=10):\n",
    "    index = movie_id - 1 # movie_id empieza por 1.\n",
    "    movie_row = data[index, :]\n",
    "    magnitude = np.sqrt(np.einsum('ij, ij -> i', data, data))\n",
    "    similarity = np.dot(movie_row, data.T) / (magnitude[index] * magnitude)\n",
    "    sort_indexes = np.argsort(-similarity)\n",
    "    return sort_indexes[:top_n]\n",
    "\n",
    "# Print de las películas top N.\n",
    "def print_similar_movies(movie_data, movie_id, top_indexes):\n",
    "    print('Recommendations for {0}: \\n'.format(\n",
    "    movie_data[movie_data.movie_id == movie_id].title.values[0]))\n",
    "    for id in top_indexes + 1:\n",
    "        print(movie_data[movie_data.movie_id == id].title.values[0])"
   ]
  },
  {
   "cell_type": "code",
   "execution_count": null,
   "metadata": {
    "pycharm": {
     "is_executing": true,
     "name": "#%%\n"
    }
   },
   "outputs": [],
   "source": [
    "np.seterr(divide='ignore', invalid='ignore')\n",
    "\n",
    "# Hacemos el dataset más pequeño (para que tarde menos).\n",
    "k = 50\n",
    "movie_id = 1 # Seleccionamos una película para obtener recomendaciones.\n",
    "top_n = 10\n",
    "\n",
    "sliced = V.T[:, :k]\n",
    "indexes = top_cosine_similarity(sliced, movie_id, top_n)\n",
    "print_similar_movies(movie_data, movie_id, indexes)"
   ]
  },
  {
   "cell_type": "code",
   "execution_count": null,
   "metadata": {},
   "outputs": [],
   "source": [
    "# Bibliografía\n",
    "# http://citeseerx.ist.psu.edu/viewdoc/download?doi=10.1.1.3.1001&rep=rep1&type=pdf\n",
    "# https://www.researchgate.net/profile/Konstantinos_G_Margaritis/publication/4215624_Applying_SVD_on_item-based_filtering/links/02e7e52088aae97991000000.pdf\n",
    "# https://www.researchgate.net/profile/Konstantinos_G_Margaritis/publication/27382630_Applying_SVD_on_Item-based_Filtering/links/02e7e52600d2e7d2ac000000/Applying-SVD-on-Item-based-Filtering.pdf\n",
    "# http://informatico.ricardomoya.es/docs/ProyectoFinDeMaster_V1.pdf\n",
    "# https://alyssaq.github.io/2015/20150426-simple-movie-recommender-using-svd"
   ]
  }
 ],
 "metadata": {
  "kernelspec": {
   "display_name": "Python 3",
   "language": "python",
   "name": "python3"
  },
  "language_info": {
   "codemirror_mode": {
    "name": "ipython",
    "version": 3
   },
   "file_extension": ".py",
   "mimetype": "text/x-python",
   "name": "python",
   "nbconvert_exporter": "python",
   "pygments_lexer": "ipython3",
   "version": "3.7.4"
  },
  "pycharm": {
   "stem_cell": {
    "cell_type": "raw",
    "metadata": {
     "collapsed": false
    },
    "source": []
   }
  }
 },
 "nbformat": 4,
 "nbformat_minor": 1
}
