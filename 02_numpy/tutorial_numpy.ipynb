{
 "cells": [
  {
   "cell_type": "code",
   "execution_count": 21,
   "metadata": {
    "collapsed": true,
    "pycharm": {
     "is_executing": false
    }
   },
   "outputs": [
    {
     "name": "stdout",
     "text": [
      "[1 2 3 4 5]\n<class 'numpy.ndarray'>\n(5,)\n"
     ],
     "output_type": "stream"
    }
   ],
   "source": [
    "import numpy as np\n",
    "# Creación de un array 1D partiendo de una lista\n",
    "array = np.array([1, 2, 3, 4, 5])\n",
    "print(array)\n",
    "print(type(array))\n",
    "print(array.shape)"
   ]
  },
  {
   "cell_type": "code",
   "execution_count": 22,
   "outputs": [
    {
     "name": "stdout",
     "text": [
      "[0 2 3 4 5]\n"
     ],
     "output_type": "stream"
    }
   ],
   "source": [
    "# Asignaciones\n",
    "array[0] = 0\n",
    "print(array)\n"
   ],
   "metadata": {
    "collapsed": false,
    "pycharm": {
     "name": "#%%\n",
     "is_executing": false
    }
   }
  },
  {
   "cell_type": "code",
   "execution_count": 23,
   "outputs": [
    {
     "name": "stdout",
     "text": [
      "[[ 1  2  3  4]\n [ 4  5  6  7]\n [ 7  8  9 10]]\n(3, 4)\n"
     ],
     "output_type": "stream"
    }
   ],
   "source": [
    "# Arrays multidimensionales\n",
    "# 3 filas 4 colunas\n",
    "marray = np.array([[1, 2, 3, 4], [4, 5, 6, 7], [7, 8, 9, 10]])\n",
    "print(marray)\n",
    "print(marray.shape)\n"
   ],
   "metadata": {
    "collapsed": false,
    "pycharm": {
     "name": "#%%\n",
     "is_executing": false
    }
   }
  },
  {
   "cell_type": "code",
   "execution_count": 24,
   "outputs": [
    {
     "name": "stdout",
     "text": [
      "float64\n"
     ],
     "output_type": "stream"
    }
   ],
   "source": [
    "# Tipos de datos.\n",
    "arr1 = np.array([1, 2, 3], dtype = np.float64)\n",
    "arr2 = np.array([1, 2, 3], dtype = np.int32)\n",
    "print(arr1.dtype)\n"
   ],
   "metadata": {
    "collapsed": false,
    "pycharm": {
     "name": "#%%\n",
     "is_executing": false
    }
   }
  },
  {
   "cell_type": "code",
   "execution_count": 25,
   "outputs": [
    {
     "name": "stdout",
     "text": [
      "int32\nfloat64\n"
     ],
     "output_type": "stream"
    }
   ],
   "source": [
    "# Casteo de arrays.\n",
    "arr = np.array([1,2,3,4])\n",
    "print(arr.dtype)\n",
    "arr = arr.astype(np.float64)\n",
    "print(arr.dtype)\n"
   ],
   "metadata": {
    "collapsed": false,
    "pycharm": {
     "name": "#%%\n",
     "is_executing": false
    }
   }
  },
  {
   "cell_type": "code",
   "execution_count": 26,
   "outputs": [
    {
     "name": "stdout",
     "text": [
      "[[0. 0.]\n [0. 0.]]\n"
     ],
     "output_type": "stream"
    }
   ],
   "source": [
    "# Inicialización arrays con zeros\n",
    "a = np.array([[1,2], [3,4]], dtype = complex)\n",
    "a = np.zeros((2,2)) \n",
    "print(a)\n"
   ],
   "metadata": {
    "collapsed": false,
    "pycharm": {
     "name": "#%%\n",
     "is_executing": false
    }
   }
  },
  {
   "cell_type": "code",
   "execution_count": 27,
   "outputs": [
    {
     "name": "stdout",
     "text": [
      "[[4.24399158e-314 8.48798317e-314 1.06099790e-313]\n [1.48539705e-313 1.69759663e-313 2.12199579e-313]]\n"
     ],
     "output_type": "stream"
    }
   ],
   "source": [
    "# Inicialización arrays vacio.\n",
    "a = np.empty((2,3))\n",
    "print(a)"
   ],
   "metadata": {
    "collapsed": false,
    "pycharm": {
     "name": "#%%\n",
     "is_executing": false
    }
   }
  },
  {
   "cell_type": "code",
   "execution_count": 28,
   "outputs": [
    {
     "name": "stdout",
     "text": [
      "[[1. 0. 0.]\n [0. 1. 0.]\n [0. 0. 1.]]\n"
     ],
     "output_type": "stream"
    }
   ],
   "source": [
    "# Inicialización array con 1 en la diagonal\n",
    "a = np.eye(3)\n",
    "print(a)\n"
   ],
   "metadata": {
    "collapsed": false,
    "pycharm": {
     "name": "#%%\n",
     "is_executing": false
    }
   }
  },
  {
   "cell_type": "code",
   "execution_count": 29,
   "outputs": [
    {
     "name": "stdout",
     "text": [
      "[10 15 20 25]\n"
     ],
     "output_type": "stream"
    }
   ],
   "source": [
    "# Crear secuencias de números.\n",
    "print(np.arange(10,30,5))"
   ],
   "metadata": {
    "collapsed": false,
    "pycharm": {
     "name": "#%%\n",
     "is_executing": false
    }
   }
  },
  {
   "cell_type": "code",
   "execution_count": 30,
   "outputs": [
    {
     "name": "stdout",
     "text": [
      "[0 1 2 3 4 5 6 7 8 9]\n5\n[5 6]\n[ 0  1  2  3  4 13 13  7  8  9]\n"
     ],
     "output_type": "stream"
    }
   ],
   "source": [
    "# Indexación y slicing\n",
    "arr1d = np.arange(10)\n",
    "print(arr1d)\n",
    "print(arr1d[5])\n",
    "print(arr1d[5:7]) #slicing\n",
    "\n",
    "arr1d[5:7] =13\n",
    "print(arr1d)"
   ],
   "metadata": {
    "collapsed": false,
    "pycharm": {
     "name": "#%%\n",
     "is_executing": false
    }
   }
  }
 ],
 "metadata": {
  "kernelspec": {
   "name": "python3",
   "language": "python",
   "display_name": "Python 3"
  },
  "language_info": {
   "codemirror_mode": {
    "name": "ipython",
    "version": 2
   },
   "file_extension": ".py",
   "mimetype": "text/x-python",
   "name": "python",
   "nbconvert_exporter": "python",
   "pygments_lexer": "ipython2",
   "version": "2.7.6"
  },
  "pycharm": {
   "stem_cell": {
    "cell_type": "raw",
    "source": [],
    "metadata": {
     "collapsed": false
    }
   }
  }
 },
 "nbformat": 4,
 "nbformat_minor": 0
}