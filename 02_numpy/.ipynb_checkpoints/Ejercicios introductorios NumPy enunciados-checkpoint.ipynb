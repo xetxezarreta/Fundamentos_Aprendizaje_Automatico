{
 "cells": [
  {
   "cell_type": "code",
   "execution_count": 9,
   "metadata": {
    "pycharm": {
     "is_executing": false,
     "name": "#%%\n"
    }
   },
   "outputs": [],
   "source": [
    "import numpy as np"
   ]
  },
  {
   "cell_type": "code",
   "execution_count": 10,
   "metadata": {
    "pycharm": {
     "is_executing": false,
     "name": "#%%\n"
    }
   },
   "outputs": [
    {
     "name": "stdout",
     "output_type": "stream",
     "text": [
      "[[ 0  1  2  3  4]\n",
      " [ 5  6  7  8  9]\n",
      " [10 11 12 13 14]\n",
      " [15 16 17 18 19]]\n"
     ]
    }
   ],
   "source": [
    "#### 0 Crea un vector con los primeros 20 número naturales y crea un vector de 4 filas y 5 columnas: utilizar función reshape.\n",
    "ar = np.arange(20)\n",
    "ar = ar.reshape(4,5)\n",
    "print(ar)"
   ]
  },
  {
   "cell_type": "code",
   "execution_count": 11,
   "metadata": {
    "pycharm": {
     "is_executing": false,
     "name": "#%% \n"
    }
   },
   "outputs": [
    {
     "name": "stdout",
     "output_type": "stream",
     "text": [
      "[[ 0  1  2  3  4]\n",
      " [ 5  6  7  8  9]\n",
      " [10 11 12 13 14]\n",
      " [15 16 17 18 19]]\n",
      "[ 4  9 14 19]\n",
      "5\n",
      "[[ 0  1  2  3  9]\n",
      " [ 5  6  7  8 14]\n",
      " [10 11 12 13 19]\n",
      " [15 16 17 18 24]]\n"
     ]
    }
   ],
   "source": [
    "#### 1 Suma el primer número de la segunda fila a todos los números de la última columna.\n",
    "ar = np.arange(20)\n",
    "ar = ar.reshape(4,5)\n",
    "print(ar)\n",
    "print(ar[:,4])  # última columna.\n",
    "print(ar[1,0])  # primer número de la segunda fila.  \n",
    "ar[:,4] += ar[1,0]\n",
    "print(ar) "
   ]
  },
  {
   "cell_type": "code",
   "execution_count": 12,
   "metadata": {
    "pycharm": {
     "is_executing": false,
     "name": "#%% \n"
    }
   },
   "outputs": [
    {
     "name": "stdout",
     "output_type": "stream",
     "text": [
      "[10 11 12 13 14 15 16 17 18 19 20 21 22 23 24 25 26 27 28 29 30 31 32 33\n",
      " 34 35 36 37 38 39 40 41 42 43 44 45 46 47 48 49]\n",
      "[49 48 47 46 45 44 43 42 41 40 39 38 37 36 35 34 33 32 31 30 29 28 27 26\n",
      " 25 24 23 22 21 20 19 18 17 16 15 14 13 12 11 10]\n"
     ]
    }
   ],
   "source": [
    "#### 2 Crea un vector con valores que vayan desde 10 a 49 e invierte el vector sin utilizar la función flip\n",
    "ar = np.arange(10, 50)\n",
    "print(ar)\n",
    "ar = ar[::-1]\n",
    "print(ar)"
   ]
  },
  {
   "cell_type": "code",
   "execution_count": 34,
   "metadata": {
    "pycharm": {
     "name": "#%% \n"
    }
   },
   "outputs": [
    {
     "name": "stdout",
     "output_type": "stream",
     "text": [
      "[[0 0 0 0 0]\n",
      " [0 0 0 0 0]\n",
      " [0 0 0 0 0]\n",
      " [0 0 0 0 0]\n",
      " [0 0 0 0 0]]\n"
     ]
    }
   ],
   "source": [
    "#### 3 Crea un array 5x5 y rellenalo con el patrón de una trabla de ajedrez: 0 = negro, 1 = blanco\n",
    "ar = np.zeros((5, 5),dtype=int)\n",
    "print(ar)"
   ]
  },
  {
   "cell_type": "code",
   "execution_count": 38,
   "metadata": {
    "pycharm": {
     "name": "#%% \n"
    }
   },
   "outputs": [
    {
     "name": "stdout",
     "output_type": "stream",
     "text": [
      "[[0 1 2 3 4]\n",
      " [5 0 1 2 3]\n",
      " [4 5 0 1 2]\n",
      " [3 4 5 0 1]\n",
      " [2 3 4 5 0]]\n"
     ]
    }
   ],
   "source": [
    "#### 4 Crea una matriz 5x5 con valores entre 0 y 5. Utilizar función arange\n",
    "ar = np.arange(6) \n",
    "ar = np.resize(ar, (5, 5))\n",
    "print(ar)"
   ]
  },
  {
   "cell_type": "code",
   "execution_count": 26,
   "metadata": {
    "pycharm": {
     "name": "#%% \n"
    }
   },
   "outputs": [
    {
     "name": "stdout",
     "output_type": "stream",
     "text": [
      "[0.12783932 0.1570809  0.42300138 0.49040554 0.52938787 0.62265616\n",
      " 0.72937592 0.80835011 0.83751553 0.86993067]\n"
     ]
    }
   ],
   "source": [
    "#### 5 Genera un vector random de tamaño 10 y ordénalo\n",
    "vec = np.random.rand(10)\n",
    "vec = np.sort(vec)\n",
    "print(vec)"
   ]
  },
  {
   "cell_type": "code",
   "execution_count": 25,
   "metadata": {
    "pycharm": {
     "name": "#%% \n"
    }
   },
   "outputs": [],
   "source": [
    "#### 6 Genera un vector 2D aleatorio (5 x10) de números enteros y sustrae a cada elemento la media de cada línea de la matriz\n",
    "# *Puedes utilizar los métodos mean y reshape para facilitar la solución"
   ]
  },
  {
   "cell_type": "code",
   "execution_count": null,
   "metadata": {
    "pycharm": {
     "name": "#%% \n"
    }
   },
   "outputs": [],
   "source": [
    "#### 7 Escribe una función que ordene un array indicando un número de columna: utilizar la función argsort. Ejemplo:\n",
    "\n",
    "# M1 =[[2 4 2] [4 1 3] [3 0 0]] <br>\n",
    "# Si la ordenamos por la columna = 1 = > <br>\n",
    "# [[3 0 0] [4 1 3] [2 4 2]] <br>\n",
    "\n"
   ]
  }
 ],
 "metadata": {
  "kernelspec": {
   "display_name": "Python 3",
   "language": "python",
   "name": "python3"
  },
  "language_info": {
   "codemirror_mode": {
    "name": "ipython",
    "version": 3
   },
   "file_extension": ".py",
   "mimetype": "text/x-python",
   "name": "python",
   "nbconvert_exporter": "python",
   "pygments_lexer": "ipython3",
   "version": "3.7.4"
  },
  "pycharm": {
   "stem_cell": {
    "cell_type": "raw",
    "metadata": {
     "collapsed": false
    },
    "source": []
   }
  }
 },
 "nbformat": 4,
 "nbformat_minor": 2
}
