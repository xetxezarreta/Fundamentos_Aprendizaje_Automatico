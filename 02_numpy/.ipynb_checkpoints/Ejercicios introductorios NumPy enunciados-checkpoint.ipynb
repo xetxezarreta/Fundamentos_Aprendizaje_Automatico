{
 "cells": [
  {
   "cell_type": "code",
   "execution_count": null,
   "metadata": {
    "pycharm": {
     "name": "#%%\n"
    }
   },
   "outputs": [],
   "source": [
    "import numpy as np"
   ]
  },
  {
   "cell_type": "code",
   "execution_count": null,
   "metadata": {
    "pycharm": {
     "name": "#%%\n"
    }
   },
   "outputs": [],
   "source": [
    "#### 0 Crea un vector con los primeros 20 número naturales y crea un vector de 4 filas y 5 columnas: utilizar función reshape.\n",
    "ar = np.arange(20)\n",
    "ar = ar.reshape(4,5)\n",
    "print(ar)"
   ]
  },
  {
   "cell_type": "code",
   "execution_count": 36,
   "metadata": {
    "pycharm": {
     "name": "#%% \n"
    }
   },
   "outputs": [
    {
     "name": "stdout",
     "output_type": "stream",
     "text": [
      "[[ 0  1  2  3  4]\n",
      " [ 5  6  7  8  9]\n",
      " [10 11 12 13 14]\n",
      " [15 16 17 18 19]]\n",
      "[ 4  9 14 19]\n",
      "5\n",
      "[[ 0  1  2  3  9]\n",
      " [ 5  6  7  8 14]\n",
      " [10 11 12 13 19]\n",
      " [15 16 17 18 24]]\n"
     ]
    }
   ],
   "source": [
    "#### 1 Suma el primer número de la segunda fila a todos los números de la última columna.\n",
    "ar = np.arange(20)\n",
    "ar = ar.reshape(4,5)\n",
    "print(ar)\n",
    "print(ar[:,4])  \n",
    "print(ar[1,0])    \n",
    "ar[:,4] += ar[1,0]\n",
    "print(ar)"
   ]
  },
  {
   "cell_type": "markdown",
   "metadata": {},
   "source": [
    "#### 2 Crea un vector con valores que vayan desde 10 a 49 e invierte el vector sin utilizar la función flip"
   ]
  },
  {
   "cell_type": "markdown",
   "metadata": {},
   "source": [
    "#### 3 Crea un array 5x5 y rellenalo con el patrón de una trabla de ajedrez: 0 = negro, 1 = blanco\n",
    "<img src =\"https://upload.wikimedia.org/wikipedia/commons/thumb/7/70/Checkerboard_pattern.svg/500px-Checkerboard_pattern.svg.png\">\n"
   ]
  },
  {
   "cell_type": "markdown",
   "metadata": {},
   "source": [
    "#### 4 Crea una matriz 5x5 con valores entre 0 y 5. Utilizar función arange"
   ]
  },
  {
   "cell_type": "markdown",
   "metadata": {},
   "source": [
    "#### 5 Genera un vector random de tamaño 10 y ordénalo"
   ]
  },
  {
   "cell_type": "markdown",
   "metadata": {},
   "source": [
    "#### 6 Genera un vector 2D aleatorio (5 x10) de números enteros y sustrae a cada elemento la media de cada línea de la matriz\n",
    "*Puedes utilizar los métodos mean y reshape para facilitar la solución"
   ]
  },
  {
   "cell_type": "markdown",
   "metadata": {},
   "source": [
    "#### 7 Escribe una función que ordene un array indicando un número de columna: utilizar la función argsort. Ejemplo:\n",
    "\n",
    "M1 =[[2 4 2] [4 1 3] [3 0 0]] <br>\n",
    "Si la ordenamos por la columna = 1 = > <br>\n",
    "[[3 0 0] [4 1 3] [2 4 2]] <br>"
   ]
  },
  {
   "cell_type": "code",
   "execution_count": 0,
   "metadata": {
    "pycharm": {
     "is_executing": false
    }
   },
   "outputs": [],
   "source": []
  }
 ],
 "metadata": {
  "kernelspec": {
   "display_name": "Python 3",
   "language": "python",
   "name": "python3"
  },
  "language_info": {
   "codemirror_mode": {
    "name": "ipython",
    "version": 3
   },
   "file_extension": ".py",
   "mimetype": "text/x-python",
   "name": "python",
   "nbconvert_exporter": "python",
   "pygments_lexer": "ipython3",
   "version": "3.7.4"
  },
  "pycharm": {
   "stem_cell": {
    "cell_type": "raw",
    "metadata": {
     "collapsed": false
    },
    "source": []
   }
  }
 },
 "nbformat": 4,
 "nbformat_minor": 2
}
