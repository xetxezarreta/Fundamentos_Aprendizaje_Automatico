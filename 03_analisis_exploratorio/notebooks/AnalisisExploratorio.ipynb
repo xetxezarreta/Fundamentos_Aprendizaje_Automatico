{
 "cells": [
  {
   "cell_type": "markdown",
   "metadata": {},
   "source": [
    "# Análisis exploratorio\n",
    "\n",
    "El objetivo de este notebook es entender los datos que tenemos a disposición con un análisis descriptivo de los mismos. Resulta imprescindible entender los datos que tenemos si queremos obtener los mejores resultados. En general, seguir estos pasos nos ayudará a entender nuestros datos:\n",
    "\n",
    "1. Echa un vistazo a tus datos originales\n",
    "2. Revisa las dimensiones del dataset\n",
    "3. Identifica los tipos de datos de los atributos de tu dataset\n",
    "4. Resume la distribución de las instancias de las clases en tu dataset\n",
    "5. Intenta entender tus datos mediante el análisis descriptivo\n",
    "6. Entiende las relaciones en tus datos mediante las correlaciones\n",
    "7. Revisa la inclinación (skew) de las distribuciones de cada atributo\n",
    "\n",
    "\n",
    "## Información sobre el dataset: Pima Indians\n",
    "\n",
    "El dataset Pima Indians incluye registros médicos de Pima Indians con datos de pacientes que tendrán diabetes durante los próximos 5 años.\n",
    "Por lo tanto, se trata de un problema de clasificación. Se trata de un buen ejemplo de dataset, ya que todos los atributos de entrada son numéricos y la variable de salida es binaria (0 o 1). El dataset es público y se puede descargar desde el repositorio UCI Machine Learning Repository."
   ]
  },
  {
   "cell_type": "code",
   "execution_count": 1,
   "metadata": {
    "pycharm": {
     "is_executing": false
    }
   },
   "outputs": [
    {
     "name": "stdout",
     "output_type": "stream",
     "text": [
      "    preg  plas  pres  skin  test  mass   pedi  age  class\n",
      "0      6   148    72    35     0  33.6  0.627   50      1\n",
      "1      1    85    66    29     0  26.6  0.351   31      0\n",
      "2      8   183    64     0     0  23.3  0.672   32      1\n",
      "3      1    89    66    23    94  28.1  0.167   21      0\n",
      "4      0   137    40    35   168  43.1  2.288   33      1\n",
      "5      5   116    74     0     0  25.6  0.201   30      0\n",
      "6      3    78    50    32    88  31.0  0.248   26      1\n",
      "7     10   115     0     0     0  35.3  0.134   29      0\n",
      "8      2   197    70    45   543  30.5  0.158   53      1\n",
      "9      8   125    96     0     0   0.0  0.232   54      1\n",
      "10     4   110    92     0     0  37.6  0.191   30      0\n",
      "11    10   168    74     0     0  38.0  0.537   34      1\n",
      "12    10   139    80     0     0  27.1  1.441   57      0\n",
      "13     1   189    60    23   846  30.1  0.398   59      1\n",
      "14     5   166    72    19   175  25.8  0.587   51      1\n",
      "15     7   100     0     0     0  30.0  0.484   32      1\n",
      "16     0   118    84    47   230  45.8  0.551   31      1\n",
      "17     7   107    74     0     0  29.6  0.254   31      1\n",
      "18     1   103    30    38    83  43.3  0.183   33      0\n",
      "19     1   115    70    30    96  34.6  0.529   32      1\n"
     ]
    }
   ],
   "source": [
    "\n",
    "from pandas import read_csv\n",
    "filename = \"../data/pima-indians-diabetes.data.csv\"\n",
    "names = ['preg', 'plas', 'pres', 'skin', 'test', 'mass', 'pedi', 'age', 'class']\n",
    "\n",
    "data = read_csv(filename, names = names)\n",
    "\n",
    "peek = data.head(20) #visualizamos los primeros 20 registros de nuestro dataset\n",
    "print(peek)\n",
    "\n",
    "# Ya estamos trabajando con un DataFrame. La primera columna contiene el índice de las filas, el cual sirve de ayuda a la hora referenciar una observación específica"
   ]
  },
  {
   "cell_type": "markdown",
   "metadata": {},
   "source": [
    "## Dimensionalidad de los datos\n",
    "\n",
    "Hay que tener muy claro cuántos datos tenemos, tanto en términos de columnas como filas\n",
    "\n",
    " - Si tenemos muchas filas, hay algoritmos que tardarán en entrenar. En cambio, si tenemos pocas filas, quizá no las podamos entrenar.\n",
    " - Si tenemos demasiados atributos, podemos crear modelos muy pobres o que sufran dada la dimensionalidad del dataset.\n",
    " \n",
    "Podemos imprimir las dimensioens del dataset utilizando la propiedad *shape* del DataFrame de Pandas"
   ]
  },
  {
   "cell_type": "code",
   "execution_count": 2,
   "metadata": {
    "pycharm": {
     "is_executing": false
    }
   },
   "outputs": [
    {
     "name": "stdout",
     "output_type": "stream",
     "text": [
      "(768, 9)\n"
     ]
    }
   ],
   "source": [
    "print(data.shape)\n",
    "\n"
   ]
  },
  {
   "cell_type": "markdown",
   "metadata": {},
   "source": [
    "## Tipos de datos de cada atributo\n",
    "\n",
    "Verificar los tipos de atributos que tenemos es muy importante. Puede que tengamos que convertir strings a floats o integers a variables categóricas. Podemos obtener una idea de los datos revisando las primeras filas de los datos originales, tal como se ha hecho en el primer paso. También podemos listar los tipos de datos usados por el dataframe para caracterizar cada atributo utilizando la propiedad *dtypes*"
   ]
  },
  {
   "cell_type": "code",
   "execution_count": 3,
   "metadata": {
    "pycharm": {
     "is_executing": false
    }
   },
   "outputs": [
    {
     "name": "stdout",
     "output_type": "stream",
     "text": [
      "preg       int64\n",
      "plas       int64\n",
      "pres       int64\n",
      "skin       int64\n",
      "test       int64\n",
      "mass     float64\n",
      "pedi     float64\n",
      "age        int64\n",
      "class      int64\n",
      "dtype: object\n"
     ]
    }
   ],
   "source": [
    "print(data.dtypes)"
   ]
  },
  {
   "cell_type": "markdown",
   "metadata": {},
   "source": [
    "## Análisis descriptivo\n",
    "\n",
    "El análisis descriptivo puede darnos un enfoque sobre la distribución o forma de cada atributo. Normalmente, se podrán generar tantos resumenes que no los podremos gestionar con el tiempo que tenemos. Para ver un pequeño resumen de los datos, podemos utilizar la función *describe()* del DataFrame de Pandas, el cual nos da 8 propiedades estadísticas de cada atributo:\n",
    "\n",
    " - Conteo\n",
    " - Media\n",
    " - Desviación estándar\n",
    " - Valor mínimo\n",
    " - Percentil 25\n",
    " - Percentil 75\n",
    " - Valor máximo\n",
    " \n",
    "Conviene revisar bien estos resumenes, ya que nos podrán indicar si tenemos datos faltantes, NA (null) o distribuciones de datos poco comunes.\n"
   ]
  },
  {
   "cell_type": "code",
   "execution_count": 4,
   "metadata": {
    "pycharm": {
     "is_executing": false
    }
   },
   "outputs": [
    {
     "name": "stdout",
     "output_type": "stream",
     "text": [
      "          preg     plas     pres     skin     test     mass     pedi      age    class\n",
      "count  768.000  768.000  768.000  768.000  768.000  768.000  768.000  768.000  768.000\n",
      "mean     3.845  120.895   69.105   20.536   79.799   31.993    0.472   33.241    0.349\n",
      "std      3.370   31.973   19.356   15.952  115.244    7.884    0.331   11.760    0.477\n",
      "min      0.000    0.000    0.000    0.000    0.000    0.000    0.078   21.000    0.000\n",
      "25%      1.000   99.000   62.000    0.000    0.000   27.300    0.244   24.000    0.000\n",
      "50%      3.000  117.000   72.000   23.000   30.500   32.000    0.372   29.000    0.000\n",
      "75%      6.000  140.250   80.000   32.000  127.250   36.600    0.626   41.000    1.000\n",
      "max     17.000  199.000  122.000   99.000  846.000   67.100    2.420   81.000    1.000\n"
     ]
    }
   ],
   "source": [
    "from pandas import set_option\n",
    "\n",
    "set_option('display.width', 100)\n",
    "set_option('precision', 3)  # podemos utilizar esta función para formatear la precisión de los números\n",
    "description = data.describe()\n",
    "print(description)"
   ]
  },
  {
   "cell_type": "markdown",
   "metadata": {},
   "source": [
    "## Distribución de las clases (para clasificación)\n",
    "\n",
    "En un problema de clasificación, debemos saber cómo de balanceados están los datos. Los problemas altamente desbalanceados son comunes y requieren un tratamiento especial de los datos."
   ]
  },
  {
   "cell_type": "code",
   "execution_count": 5,
   "metadata": {
    "pycharm": {
     "is_executing": false
    }
   },
   "outputs": [
    {
     "name": "stdout",
     "output_type": "stream",
     "text": [
      "class\n",
      "0    500\n",
      "1    268\n",
      "dtype: int64\n"
     ]
    }
   ],
   "source": [
    "count_class = data.groupby(\"class\").size()\n",
    "print(count_class)"
   ]
  },
  {
   "cell_type": "markdown",
   "metadata": {},
   "source": [
    "Podemos apreciar que casi tenemos el doble de pacientes sin diabetes. Estaríamos ante un problema de balanceo de datos."
   ]
  },
  {
   "cell_type": "markdown",
   "metadata": {},
   "source": [
    "## Correlación entre atributos\n",
    "\n",
    "La función *corr()* del DataFrame de Pandas nos calcula la correlación entre atributos. La matriz nos da la correlación entre todos los pares de atributos (dos veces, ya que la matriz es simétrica). Se puede ver que la diagonal (de izquierda a derecha) de la matriz muestra una perfecta correlación (pearson = 1) entre el propio atributo:"
   ]
  },
  {
   "cell_type": "code",
   "execution_count": 6,
   "metadata": {
    "pycharm": {
     "is_executing": false
    }
   },
   "outputs": [
    {
     "name": "stdout",
     "output_type": "stream",
     "text": [
      "        preg   plas   pres   skin   test   mass   pedi    age  class\n",
      "preg   1.000  0.129  0.141 -0.082 -0.074  0.018 -0.034  0.544  0.222\n",
      "plas   0.129  1.000  0.153  0.057  0.331  0.221  0.137  0.264  0.467\n",
      "pres   0.141  0.153  1.000  0.207  0.089  0.282  0.041  0.240  0.065\n",
      "skin  -0.082  0.057  0.207  1.000  0.437  0.393  0.184 -0.114  0.075\n",
      "test  -0.074  0.331  0.089  0.437  1.000  0.198  0.185 -0.042  0.131\n",
      "mass   0.018  0.221  0.282  0.393  0.198  1.000  0.141  0.036  0.293\n",
      "pedi  -0.034  0.137  0.041  0.184  0.185  0.141  1.000  0.034  0.174\n",
      "age    0.544  0.264  0.240 -0.114 -0.042  0.036  0.034  1.000  0.238\n",
      "class  0.222  0.467  0.065  0.075  0.131  0.293  0.174  0.238  1.000\n"
     ]
    }
   ],
   "source": [
    "correlations = data.corr()\n",
    "print(correlations)"
   ]
  },
  {
   "cell_type": "markdown",
   "metadata": {},
   "source": [
    "# Análisis de los datos mediante visualización\n",
    "\n",
    "Cuanto mejor entendamos los datos, obtendremos un mejor resultado de los algoritmos de ML.\n",
    "\n",
    "## Plots univariables\n",
    "\n",
    "En esta sección veremos 3 técnicas que se pueden usar para entender cada atributos del dataset de forma independiente:\n",
    "    1. Histogramas\n",
    "    2. Plots de densidad\n",
    "    3. Plots Box and Whisker\n",
    "    \n",
    "### Histogramas\n",
    "\n",
    "Una forma rápida de obtener una idea de la distribución de un atributo es plotearlos mediante histogramas. Los histogramas agrupan los datos en barras y ofrecen un conteo de las observaciones por cada barra. Con la forma de cada barra podemos deduciar rápidamente si el atributo tiene una distribución **Gaussiana**, si está la distribución está **inclinada** o incluso si tiene una distribución exponencial. Asimismo, nos puede aydar a ver posibles **outliers o valores atípicos**.\n",
    "    "
   ]
  },
  {
   "cell_type": "code",
   "execution_count": 7,
   "metadata": {
    "pycharm": {
     "is_executing": false
    }
   },
   "outputs": [
    {
     "name": "stderr",
     "output_type": "stream",
     "text": [
      "UsageError: unrecognized arguments: #lo utilizamos para indicar que tiene que renderizar las gráficas en un notebook. Podéis probar a ignorar esta línea y ver el resultado\n"
     ]
    }
   ],
   "source": [
    "%matplotlib notebook  #lo utilizamos para indicar que tiene que renderizar las gráficas en un notebook. Podéis probar a ignorar esta línea y ver el resultado\n",
    "import matplotlib.pyplot as plt\n",
    "from pandas import read_csv\n",
    "filename = '../data/pima-indians-diabetes.data.csv'\n",
    "names = ['preg', 'plas', 'pres', 'skin', 'test', 'mass', 'pedi', 'age', 'class']\n",
    "data = read_csv(filename, names=names)\n",
    "data.hist()\n",
    "plt.show()"
   ]
  },
  {
   "cell_type": "markdown",
   "metadata": {},
   "source": [
    "Podemos mejorar las visualizaciones practicamente hasta donde queramos, incluyendo nuevos parametros, utilizando la libreria seaborn, plotly... Pero ahora nos centraremos en obtener información de nuestro dataset. Os dejo un ejemplo de una visualización más vistosa del mismo dataset:"
   ]
  },
  {
   "cell_type": "code",
   "execution_count": null,
   "metadata": {
    "pycharm": {
     "is_executing": false
    }
   },
   "outputs": [],
   "source": [
    "fig = data.hist(bins=15,\n",
    "                 color='steelblue',\n",
    "                 edgecolor='black', linewidth=1.0,\n",
    "                 xlabelsize=10, ylabelsize=10,\n",
    "                 xrot=45, yrot=0,\n",
    "                 figsize=(10,9),\n",
    "                 grid=False)\n",
    "\n",
    "plt.tight_layout(rect=(0, 0, 1.5, 1.5)) "
   ]
  },
  {
   "cell_type": "markdown",
   "metadata": {},
   "source": [
    "Se puede observar que los atributos *age, pedi* y *test* pueden tener una distribución exponencial. También se puede ver que *mass, pres* y *plas* tienen una **distribución casi Gaussiana**. Este último dato es importante, ya que muchos algoritmos de ML asumen que las variables de entrada (viéndolas independientemente) tienen una distribución Gaussiana."
   ]
  },
  {
   "cell_type": "markdown",
   "metadata": {},
   "source": [
    "### Gráficas de densidad\n",
    "\n",
    "Estas gráficas son otra alternativa para visualizar la distribución de cada atributo."
   ]
  },
  {
   "cell_type": "code",
   "execution_count": null,
   "metadata": {
    "pycharm": {
     "is_executing": false
    }
   },
   "outputs": [],
   "source": [
    "data.plot(kind='density', subplots=True, layout=(3,3), sharex=False)\n",
    "plt.show()"
   ]
  },
  {
   "cell_type": "markdown",
   "metadata": {},
   "source": [
    "### Gráficas Box y Whisker\n",
    "\n",
    "Un boxplot resume la distribución de cada atributo, marcando la **mediana** mediante una línea y una caja entre los **percentiles 25 y 75**. En cuanto a las gráficas Whisker, nos dan una idea de la dispersión de los datos y los \"puntos\" fuera de los whiskers pueden ayudar a detectar outliers o puntos atípicos."
   ]
  },
  {
   "cell_type": "code",
   "execution_count": null,
   "metadata": {
    "pycharm": {
     "is_executing": false
    }
   },
   "outputs": [],
   "source": [
    "#alternativa con seaborn\n",
    "#import seaborn as sns\n",
    "#sns.set(style=\"whitegrid\")\n",
    "#ax = sns.boxplot(data = data)\n",
    "\n",
    "data.plot(kind='box', subplots=True, layout=(3,3), sharex=False, sharey=False)\n",
    "plt.show()"
   ]
  },
  {
   "cell_type": "markdown",
   "metadata": {},
   "source": [
    "La dispersión es bastante diferente en los atributos. Atributos como age, test, y skin parecen estar inclinados hacia valores más pequeños"
   ]
  },
  {
   "cell_type": "markdown",
   "metadata": {},
   "source": [
    "## Gráficas multivariable\n",
    "\n",
    "Los plots más comunes para visualizar interacciones entre múltiples variables son:\n",
    "     - Gráfica de matriz de correlaciones\n",
    "     - Matriz de  gráfica dispersión (Scatter Plot Matrix)"
   ]
  },
  {
   "cell_type": "markdown",
   "metadata": {},
   "source": [
    "### Gráfica de matriz de correlaciones\n",
    "\n",
    "La correlación nos indica como se relacionan dos variables entre sí. Si las dos variables cambián en la misma dirección, estarán relacionadas positivamente. Si cambian en direcciones opuestas (una tiende hacia arriba, otra hacia abajo), estarán correlacionadas negativamente. Las relaciones entre pares de variables se pueden representar en una matriz, y después graficarlas.\n",
    "\n",
    "Es importante buscar correlaciones entre variables, ya que algunos algoritmos (por ejemplo: **regresión linear y logística**) tienen un **rendimiento muy bajo si trabajan con variables que están correlacionadas**."
   ]
  },
  {
   "cell_type": "code",
   "execution_count": null,
   "metadata": {
    "pycharm": {
     "is_executing": false
    }
   },
   "outputs": [],
   "source": [
    "from matplotlib import pyplot\n",
    "from pandas import read_csv\n",
    "import numpy\n",
    "\n",
    "correlations = data.corr()\n",
    "correlations.style.background_gradient(cmap='coolwarm').set_precision(2)\n",
    "\n",
    "fig = pyplot.figure()\n",
    "ax = fig.add_subplot(111)\n",
    "cax = ax.matshow(correlations, vmin=-1, vmax=1)\n",
    "\n",
    "ticks = numpy.arange(0,9,1)\n",
    "ax.set_xticks(ticks)\n",
    "ax.set_yticks(ticks)\n",
    "ax.set_xticklabels(names)\n",
    "ax.set_yticklabels(names)\n",
    "fig.colorbar(cax)\n",
    "pyplot.show()"
   ]
  },
  {
   "cell_type": "code",
   "execution_count": null,
   "metadata": {
    "pycharm": {
     "is_executing": false
    }
   },
   "outputs": [],
   "source": [
    "import seaborn as sns\n",
    "\n",
    "plt.clf()\n",
    "fig = pyplot.figure()\n",
    "corr = data.corr()\n",
    "sns.heatmap(corr, \n",
    "            xticklabels=corr.columns.values,\n",
    "            yticklabels=corr.columns.values)\n",
    "\n",
    "plt.show()"
   ]
  },
  {
   "cell_type": "markdown",
   "metadata": {},
   "source": [
    "### Matriz de gráficas de dispersión\n",
    "\n",
    "Cada Scatter Plot o Gráfica de Dispersión muestra la relación entre dos variables medinate puntos en dos dimensiones, un eje por cada atributo. Estas gráficas pueden ayudar a detectar relaciones estructuradas entre variables. Estos atributos estructurados, pueden estar correlacionados y pueden ser buenos candidatos a eliminar de tu dataset."
   ]
  },
  {
   "cell_type": "code",
   "execution_count": null,
   "metadata": {
    "pycharm": {
     "is_executing": false
    }
   },
   "outputs": [],
   "source": [
    "from pandas.plotting import scatter_matrix\n",
    "\n",
    "scatter_matrix(data)\n",
    "plt.show()"
   ]
  },
  {
   "cell_type": "code",
   "execution_count": null,
   "metadata": {
    "pycharm": {
     "is_executing": false
    }
   },
   "outputs": [],
   "source": [
    "import seaborn as sns\n",
    "sns.set(style=\"ticks\")\n",
    "\n",
    "\n",
    "sns.pairplot(data)"
   ]
  },
  {
   "cell_type": "code",
   "execution_count": null,
   "metadata": {
    "pycharm": {
     "is_executing": false
    }
   },
   "outputs": [],
   "source": []
  }
 ],
 "metadata": {
  "kernelspec": {
   "display_name": "Python 3",
   "language": "python",
   "name": "python3"
  },
  "language_info": {
   "codemirror_mode": {
    "name": "ipython",
    "version": 3
   },
   "file_extension": ".py",
   "mimetype": "text/x-python",
   "name": "python",
   "nbconvert_exporter": "python",
   "pygments_lexer": "ipython3",
   "version": "3.7.4"
  },
  "pycharm": {
   "stem_cell": {
    "cell_type": "raw",
    "metadata": {
     "collapsed": false
    },
    "source": []
   }
  }
 },
 "nbformat": 4,
 "nbformat_minor": 1
}
